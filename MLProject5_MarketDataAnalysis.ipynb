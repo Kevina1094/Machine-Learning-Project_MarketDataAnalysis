{
 "cells": [
  {
   "cell_type": "code",
   "execution_count": null,
   "metadata": {},
   "outputs": [],
   "source": [
    "import pandas as pd\n",
    "import numpy as np\n",
    "import matplotlib.pyplot as plt"
   ]
  },
  {
   "cell_type": "code",
   "execution_count": null,
   "metadata": {},
   "outputs": [],
   "source": [
    "df=pd.read_csv('bank.csv')\n",
    "df"
   ]
  },
  {
   "cell_type": "code",
   "execution_count": null,
   "metadata": {},
   "outputs": [],
   "source": [
    "df=pd.read_csv('bank.csv', sep =';')\n",
    "df"
   ]
  },
  {
   "cell_type": "code",
   "execution_count": null,
   "metadata": {},
   "outputs": [],
   "source": [
    "df.isnull().sum()"
   ]
  },
  {
   "cell_type": "code",
   "execution_count": null,
   "metadata": {},
   "outputs": [],
   "source": [
    "bal = df['balance']\n",
    "bal"
   ]
  },
  {
   "cell_type": "code",
   "execution_count": null,
   "metadata": {},
   "outputs": [],
   "source": [
    "def balanceator (x):\n",
    "    if x < 72:\n",
    "        return 'Class E'\n",
    "    elif x >= 72 and x <448:\n",
    "        return 'Class D'\n",
    "    elif x >= 448 and x < 1428:\n",
    "        return 'Class C'\n",
    "    elif x >= 1428 and x < bal.quantile(0.99):\n",
    "        return 'Class B'\n",
    "    else:\n",
    "        return 'Class A'\n",
    "    \n"
   ]
  },
  {
   "cell_type": "code",
   "execution_count": null,
   "metadata": {},
   "outputs": [],
   "source": [
    "def wrangle () :\n",
    "    df = pd.read_csv('bank.csv', sep=';') \n",
    "    df['y'] = df['y'].apply(lambda x: True if x == 'yes' else False) \n",
    "    df['default'] = df['default'].apply(lambda x: True if x == 'yes' else False) \n",
    "    df['balance_class'] = df['balance'].apply(lambda x: balanceator(x)) \n",
    "    df['housing'] = df['housing'].apply(lambda x: True if x == 'yes' else False)\n",
    "    df['loan'] = df['loan'].apply(lambda x: True if x == 'yes' else False) \n",
    "    df['previous_bool'] = df['previous'].apply(lambda x: True if x != 0 else False) \n",
    "    \n",
    "    \n",
    "    to_drop =['previous', 'day', 'poutcome', 'pdays'] \n",
    "    df.drop(columns= to_drop, inplace=True)\n",
    "    \n",
    "    \n",
    "    return df"
   ]
  },
  {
   "cell_type": "code",
   "execution_count": null,
   "metadata": {},
   "outputs": [],
   "source": [
    "new_df = wrangle()\n",
    "new_df"
   ]
  },
  {
   "cell_type": "code",
   "execution_count": null,
   "metadata": {},
   "outputs": [],
   "source": [
    "x=new_df.drop (columns=['y', 'balance', 'duration'])\n",
    "y=new_df['y']\n",
    "print (x)\n",
    "print (y)\n"
   ]
  },
  {
   "cell_type": "code",
   "execution_count": null,
   "metadata": {},
   "outputs": [],
   "source": [
    "from sklearn.preprocessing import OrdinalEncoder\n",
    "oe = OrdinalEncoder()\n",
    "x=oe.fit_transform(x)"
   ]
  },
  {
   "cell_type": "code",
   "execution_count": null,
   "metadata": {},
   "outputs": [],
   "source": [
    "from sklearn.model_selection import train_test_split\n",
    "x_train, x_test, y_train, y_test = train_test_split (x,y,test_size=0.2, random_state=42)\n"
   ]
  },
  {
   "cell_type": "code",
   "execution_count": null,
   "metadata": {},
   "outputs": [],
   "source": [
    "from sklearn.model_selection import GridSearchCV\n",
    "from sklearn.tree import DecisionTreeClassifier\n",
    "gsc_dst= GridSearchCV(DecisionTreeClassifier(random_state=42), {}, n_jobs=-1, cv=10, refit=\"recall\")\n",
    "\n",
    "gsc_dst.fit(x_train, y_train)\n"
   ]
  },
  {
   "cell_type": "code",
   "execution_count": null,
   "metadata": {},
   "outputs": [],
   "source": [
    "from sklearn.metrics import ConfusionMatrixDisplay\n",
    "ConfusionMatrixDisplay.from_estimator(gsc_dst, x_test, y_test)"
   ]
  },
  {
   "cell_type": "code",
   "execution_count": null,
   "metadata": {},
   "outputs": [],
   "source": [
    "from sklearn.metrics import confusion_matrix, accuracy_score\n",
    "y_pred=gsc_dst.predict(x_test)\n",
    "print ('The Confusion matrix is', confusion_matrix(y_test,y_pred))\n",
    "print ('The Accuracy score is', accuracy_score(y_test, y_pred))"
   ]
  },
  {
   "cell_type": "code",
   "execution_count": null,
   "metadata": {},
   "outputs": [],
   "source": [
    "params_gsc_dst = {\n",
    "    \"max_depth\": [5, 10, 15, 20, 25, 30, None],\n",
    "    \"criterion\": [\"gini\",\"entropy\"], \n",
    "    \"min_samples_split\": [2,3], \n",
    "    \"min_samples_leaf\": [1,2]\n",
    "}"
   ]
  },
  {
   "cell_type": "code",
   "execution_count": null,
   "metadata": {},
   "outputs": [],
   "source": [
    "newmodel_gsc_dst = GridSearchCV(\n",
    "    DecisionTreeClassifier(random_state=42), \n",
    "    params_gsc_dst,\n",
    "    cv=10, \n",
    "    verbose=2\n",
    ")"
   ]
  },
  {
   "cell_type": "code",
   "execution_count": null,
   "metadata": {},
   "outputs": [],
   "source": [
    "newmodel_gsc_dst.fit(x_train, y_train)"
   ]
  },
  {
   "cell_type": "code",
   "execution_count": null,
   "metadata": {},
   "outputs": [],
   "source": [
    "ConfusionMatrixDisplay.from_estimator(newmodel_gsc_dst, x_test, y_test)"
   ]
  },
  {
   "cell_type": "code",
   "execution_count": null,
   "metadata": {},
   "outputs": [],
   "source": [
    "new_ypred=newmodel_gsc_dst.predict(x_test)"
   ]
  },
  {
   "cell_type": "code",
   "execution_count": null,
   "metadata": {},
   "outputs": [],
   "source": [
    "from sklearn.metrics import classification_report\n",
    "print ('The classification report is', classification_report(y_test,new_ypred))\n",
    "print ('The new accuracy score is', accuracy_score(y_test, new_ypred))\n",
    "print ('The new confusion matrix is', confusion_matrix(y_test, new_ypred))"
   ]
  }
 ],
 "metadata": {
  "kernelspec": {
   "display_name": "Python 3",
   "language": "python",
   "name": "python3"
  },
  "language_info": {
   "codemirror_mode": {
    "name": "ipython",
    "version": 3
   },
   "file_extension": ".py",
   "mimetype": "text/x-python",
   "name": "python",
   "nbconvert_exporter": "python",
   "pygments_lexer": "ipython3",
   "version": "3.11.8"
  }
 },
 "nbformat": 4,
 "nbformat_minor": 2
}
